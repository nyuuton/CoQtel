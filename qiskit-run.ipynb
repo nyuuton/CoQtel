{
 "cells": [
  {
   "cell_type": "code",
   "execution_count": 4,
   "metadata": {},
   "outputs": [],
   "source": [
    "import sys\n",
    "import numpy as np\n",
    "import csv\n",
    "import codecs\n",
    "import qiskit\n",
    "from qiskit import QuantumCircuit, execute\n",
    "from qiskit.providers.aer import QasmSimulator"
   ]
  },
  {
   "cell_type": "code",
   "execution_count": 2,
   "id": "64409b10",
   "metadata": {},
   "outputs": [],
   "source": [
    "from braket.circuits import Circuit\n",
    "from braket.aws import AwsDevice, AwsQuantumTask\n",
    "from braket.devices import LocalSimulator"
   ]
  },
  {
   "cell_type": "code",
   "execution_count": 5,
   "id": "bc451c85",
   "metadata": {},
   "outputs": [],
   "source": [
    "# デバイス名をコマンドライン引数から取得\n",
    "device_name = sys.argv[1] "
   ]
  },
  {
   "cell_type": "code",
   "execution_count": null,
   "id": "a68a8699",
   "metadata": {},
   "outputs": [],
   "source": [
    "# デバイスの選択\n",
    "if device_name == \"IonQ\":\n",
    "    device = AwsDevice(\"arn:aws:braket:::device/qpu/ionq/ionQdevice\")\n",
    "elif device_name == \"Oxford Quantum Circuits\":\n",
    "    device = AwsDevice(\"arn:aws:braket:::device/qpu/oxford-quantum-circuits/Lucy\")\n",
    "elif device_name == \"QuEra\":\n",
    "    device = AwsDevice(\"arn:aws:braket:::device/qpu/quera/processor\")\n",
    "elif device_name == \"Rigetti\":\n",
    "    device = AwsDevice(\"arn:aws:braket:::device/qpu/rigetti/Aspen-11\")\n",
    "elif device_name == \"Qiskit\":\n",
    "    # TODO\n",
    "    print(\"TODO\")\n",
    "else:\n",
    "    print(\"指定されたデバイスはサポートされていません。\")\n",
    "    sys.exit(1)"
   ]
  },
  {
   "cell_type": "code",
   "execution_count": 12,
   "metadata": {},
   "outputs": [],
   "source": [
    "qc = QuantumCircuit.from_qasm_file(\"circuit.qasm\")\n",
    "\n",
    "qc.save_statevector()\n",
    "\n",
    "backend = QasmSimulator()\n",
    "\n",
    "job = execute(qc, backend)\n",
    "result = job.result()\n",
    "\n",
    "state_vector = result.get_statevector()"
   ]
  },
  {
   "cell_type": "code",
   "execution_count": 13,
   "metadata": {},
   "outputs": [
    {
     "data": {
      "text/html": [
       "<pre style=\"word-wrap: normal;white-space: pre;background: #fff0;line-height: 1.1;font-family: &quot;Courier New&quot;,Courier,monospace\">      ┌───┐  ┌───┐      statevector \n",
       "q_0: ─┤ X ├──┤ H ├───────────░──────\n",
       "      ├───┤  ├───┤           ░      \n",
       "q_1: ─┤ Y ├──┤ H ├───────────░──────\n",
       "      ├───┤  ├───┤           ░      \n",
       "q_2: ─┤ Z ├──┤ T ├───────────░──────\n",
       "     ┌┴───┴─┐├───┤┌───┐      ░      \n",
       "q_3: ┤ P(π) ├┤ T ├┤ T ├──────░──────\n",
       "     └──────┘└───┘└───┘      ░      </pre>"
      ],
      "text/plain": [
       "      ┌───┐  ┌───┐      statevector \n",
       "q_0: ─┤ X ├──┤ H ├───────────░──────\n",
       "      ├───┤  ├───┤           ░      \n",
       "q_1: ─┤ Y ├──┤ H ├───────────░──────\n",
       "      ├───┤  ├───┤           ░      \n",
       "q_2: ─┤ Z ├──┤ T ├───────────░──────\n",
       "     ┌┴───┴─┐├───┤┌───┐      ░      \n",
       "q_3: ┤ P(π) ├┤ T ├┤ T ├──────░──────\n",
       "     └──────┘└───┘└───┘      ░      "
      ]
     },
     "execution_count": 13,
     "metadata": {},
     "output_type": "execute_result"
    }
   ],
   "source": [
    "qc.draw()"
   ]
  },
  {
   "cell_type": "code",
   "execution_count": 9,
   "metadata": {},
   "outputs": [],
   "source": [
    "print(file=codecs.open('qubitstate_mem.txt', 'w','utf-8'),end=\"\")"
   ]
  },
  {
   "cell_type": "code",
   "execution_count": 10,
   "metadata": {},
   "outputs": [],
   "source": [
    "for i in range(len(np.asarray(state_vector))):\n",
    "    print(str(state_vector[i].real)+\"\\t\"+str(state_vector[i].imag), file=codecs.open('qubitstate_mem.txt', 'a','utf-8'))"
   ]
  },
  {
   "cell_type": "code",
   "execution_count": null,
   "metadata": {},
   "outputs": [],
   "source": []
  }
 ],
 "metadata": {
  "kernelspec": {
   "display_name": ".venv",
   "language": "python",
   "name": "python3"
  },
  "language_info": {
   "codemirror_mode": {
    "name": "ipython",
    "version": 3
   },
   "file_extension": ".py",
   "mimetype": "text/x-python",
   "name": "python",
   "nbconvert_exporter": "python",
   "pygments_lexer": "ipython3",
   "version": "3.10.0"
  }
 },
 "nbformat": 4,
 "nbformat_minor": 5
}
